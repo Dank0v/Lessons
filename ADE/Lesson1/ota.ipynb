{
 "cells": [
  {
   "cell_type": "markdown",
   "id": "e3a7ae7b",
   "metadata": {},
   "source": [
    "# 5T-OTA Example"
   ]
  },
  {
   "cell_type": "markdown",
   "id": "a9e4a8e6",
   "metadata": {},
   "source": [
    "## Python Setup"
   ]
  },
  {
   "cell_type": "code",
   "execution_count": 29,
   "id": "25bf078b",
   "metadata": {},
   "outputs": [],
   "source": [
    "from pygmid import Lookup as lk\n",
    "import numpy as np\n",
    "\n",
    "nmos = lk('../mat/nfet_01v8_lvt.mat')\n",
    "pmos = lk('../mat/pfet_01v8_lvt.mat')"
   ]
  },
  {
   "cell_type": "markdown",
   "id": "025acc49",
   "metadata": {},
   "source": [
    "## Input Parameters"
   ]
  },
  {
   "cell_type": "code",
   "execution_count": null,
   "id": "bd63a61f",
   "metadata": {},
   "outputs": [],
   "source": [
    "# Circuit Parameters\n",
    "Vdd = 1.8\n",
    "ugf = 50e6\n",
    "Cload = 1e-12\n",
    "\n",
    "# Device Parameters\n",
    "## gm/ID\n",
    "gm_ID_M12 = 20\n",
    "gm_ID_M34 = 6\n",
    "gm_ID_M56 = 10\n",
    "\n",
    "## Lengths\n",
    "L_M12 = 0.5\n",
    "L_M34 = 1\n",
    "L_M56 = 1"
   ]
  },
  {
   "cell_type": "markdown",
   "id": "3fbda9f5",
   "metadata": {},
   "source": [
    "## Calculations"
   ]
  },
  {
   "cell_type": "code",
   "execution_count": 31,
   "id": "f7ff0744",
   "metadata": {},
   "outputs": [],
   "source": [
    "# Vdsat\n",
    "Vdsat_M12 = 2 / gm_ID_M12\n",
    "Vdsat_M34 = 2 / gm_ID_M34\n",
    "Vdsat_M56 = 2 / gm_ID_M56\n",
    "\n",
    "# Vgs\n",
    "Vgs_M12 = nmos.lookupVGS(GM_ID=gm_ID_M12, VDS=Vdd/2, VSB=Vdsat_M56, L=L_M12)\n",
    "Vgs_M34 = pmos.lookupVGS(GM_ID=gm_ID_M34, VSB=0, L=L_M34)\n",
    "Vgs_M34 = pmos.lookupVGS(GM_ID=gm_ID_M34, VDS=Vgs_M34, VSB=0, L=L_M34)\n",
    "Vgs_M56 = nmos.lookupVGS(GM_ID=gm_ID_M12, VDS=Vdsat_M56, VSB=0, L=L_M56)\n",
    "\n",
    "# 'Optimize' Loop\n",
    "Cself = 0\n",
    "for k in range(20):\n",
    "    # Input Transconductance (gm [S]) & Current (ID [A])\n",
    "    gm_M12 = 2 * np.pi * (Cload + Cself) * ugf\n",
    "    ID_M12 = ID_M34 = gm_M12 / gm_ID_M12\n",
    "\n",
    "    # Load Transconductance (gm [S])\n",
    "    gm_M34 = gm_ID_M34 * ID_M34\n",
    "\n",
    "    # Input & Load Current Density (JD [µA/m])\n",
    "    JD_M12 = nmos.lookup('ID_W', GM_ID=gm_ID_M12, VDS=Vdd/2, VSB=Vdsat_M56, L=L_M12)\n",
    "    JD_M34 = pmos.lookup('ID_W', GM_ID=gm_ID_M34, VDS=Vgs_M34, VSB=0, L=L_M34)\n",
    "\n",
    "    # Input & Load Width (W [µm])\n",
    "    W_M12 = ID_M12 / JD_M12\n",
    "    W_M34 = ID_M34 / JD_M34\n",
    "\n",
    "    # Input & Load Drain Capacitance (CDD [F])\n",
    "    Cdd_M12 = nmos.lookup('CDD_W', GM_ID=gm_ID_M12, VDS=Vdd/2, VSB=Vdsat_M56, L=L_M12) * W_M12\n",
    "    Cdd_M34 = pmos.lookup('CDD_W', GM_ID=gm_ID_M34, VDS=Vgs_M34, VSB=0, L=L_M34) * W_M34\n",
    "    Cself = (Cdd_M12 + Cdd_M34)\n",
    "\n",
    "# Tail Current, Transconductance, Current Density & Width\n",
    "ID_M56 = 2 * ID_M12\n",
    "gm_M56 = gm_ID_M56 * ID_M56\n",
    "JD_M56 = nmos.lookup('ID_W', GM_ID=gm_ID_M56, VDS=Vdsat_M56, VSB=0, L=L_M56)\n",
    "W_M56 = ID_M56 / JD_M56\n",
    "\n",
    "# Intrinsic Gain (gm/gds [V/V])\n",
    "av_M12 = nmos.lookup('GM_GDS', GM_ID=gm_ID_M12, VDS=Vdd/2, VSB=Vdsat_M56, L=L_M12)\n",
    "av_M34 = pmos.lookup('GM_GDS', GM_ID=gm_ID_M34, VDS=Vgs_M34, VSB=0, L=L_M34)\n",
    "av_M56 = nmos.lookup('GM_GDS', GM_ID=gm_ID_M56, VDS=Vdsat_M56, VSB=0, L=L_M56)\n",
    "\n",
    "# Output Conductance (gds [S])\n",
    "gds_M12 = gm_M12 / av_M12\n",
    "gds_M34 = gm_M34 / av_M34\n",
    "gds_M56 = gm_M56 / av_M56\n",
    "\n",
    "# Threshold Voltage (Vth [V])\n",
    "Vth_M12 = nmos.lookup('VT', VGS=Vgs_M12, VDS=Vdd/2, VSB=Vdsat_M56, L=L_M12)\n",
    "Vth_M34 = pmos.lookup('VT', VGS=Vgs_M34, VDS=Vgs_M34, VSB=0, L=L_M34)\n",
    "Vth_M56 = nmos.lookup('VT', VGS=Vgs_M56, VDS=Vgs_M56, VSB=0, L=L_M56)\n",
    "\n",
    "# Circuit Gain (A0 [V/V, dB])\n",
    "A0_Mag = gm_M12 / (gds_M12 + gds_M34)\n",
    "A0_dB = 20 * np.log10(A0_Mag)\n",
    "\n",
    "# Circuit Consumption (IDD [A])\n",
    "Idd = ID_M56\n",
    "\n",
    "# Circuit Unity-Gain Frequency (UGF [Hz])\n",
    "UGF = gm_M12 / (2 * np.pi * (Cload + Cself))"
   ]
  },
  {
   "cell_type": "code",
   "execution_count": 32,
   "id": "57febcd9",
   "metadata": {},
   "outputs": [
    {
     "name": "stdout",
     "output_type": "stream",
     "text": [
      "+---------------+------------+------------+------------+------------+\n",
      "| Parameter     | M1/2       | M3/4       | M5/6       | Unit       |\n",
      "+---------------+------------+------------+------------+------------+\n",
      "| W             |     16.383 |      5.217 |      7.991 | µm         |\n",
      "| L             |      0.500 |      1.000 |      1.000 | µm         |\n",
      "| gm/ID         |     20.000 |      6.000 |     10.000 | S/A        |\n",
      "| JD            |      0.971 |      3.048 |      3.980 | µA/µm      |\n",
      "| gm/gds        |     89.917 |     55.809 |     12.860 | V/V        |\n",
      "| gm            |    318.044 |     95.413 |    318.044 | µS         |\n",
      "| ID            |     15.902 |     15.902 |     31.804 | µA         |\n",
      "| gds           |      3.537 |      1.710 |     24.730 | µS         |\n",
      "| Vth           |    554.200 |    444.260 |    483.000 | mV         |\n",
      "| VGS           |          - |    790.084 |    507.608 | mV         |\n",
      "+---------------+------------+------------+------------+------------+\n",
      "\n",
      "CIRCUIT PARAMETERS\n",
      "+---------------+------------+------------+\n",
      "| Parameter     | Value      | Unit       |\n",
      "+---------------+------------+------------+\n",
      "| A0_Mag        |     60.618 | V/V        |\n",
      "| A0_dB         |     35.652 | dB         |\n",
      "| UGF           |     50.000 | MHz        |\n",
      "| IDD           |     31.804 | µA         |\n",
      "+---------------+------------+------------+\n"
     ]
    }
   ],
   "source": [
    "# Output\n",
    "print(\"+\" + \"-\"*15 + \"+\" + \"-\"*12 + \"+\" + \"-\"*12 + \"+\" + \"-\"*12 + \"+\" + \"-\"*12 + \"+\")\n",
    "print(f\"| {'Parameter':<13} | {'M1/2':<10} | {'M3/4':<10} | {'M5/6':<10} | {'Unit':<10} |\")\n",
    "print(\"+\" + \"-\"*15 + \"+\" + \"-\"*12 + \"+\" + \"-\"*12 + \"+\" + \"-\"*12 + \"+\" + \"-\"*12 + \"+\")\n",
    "print(f\"| {'W':<13} | {W_M12:>10.3f} | {W_M34:>10.3f} | {W_M56:>10.3f} | {'µm':<10} |\")\n",
    "print(f\"| {'L':<13} | {L_M12:>10.3f} | {L_M34:>10.3f} | {L_M56:>10.3f} | {'µm':<10} |\")\n",
    "print(f\"| {'gm/ID':<13} | {gm_ID_M12:>10.3f} | {gm_ID_M34:>10.3f} | {gm_ID_M56:>10.3f} | {'S/A':<10} |\")\n",
    "print(f\"| {'JD':<13} | {JD_M12/1e-6:>10.3f} | {JD_M34/1e-6:>10.3f} | {JD_M56/1e-6:>10.3f} | {'µA/µm':<10} |\")\n",
    "print(f\"| {'gm/gds':<13} | {av_M12:>10.3f} | {av_M34:>10.3f} | {av_M56:>10.3f} | {'V/V':<10} |\")\n",
    "print(f\"| {'gm':<13} | {gm_M12/1e-6:>10.3f} | {gm_M34/1e-6:>10.3f} | {gm_M56/1e-6:>10.3f} | {'µS':<10} |\")\n",
    "print(f\"| {'ID':<13} | {ID_M12/1e-6:>10.3f} | {ID_M34/1e-6:>10.3f} | {ID_M56/1e-6:>10.3f} | {'µA':<10} |\")\n",
    "print(f\"| {'gds':<13} | {gds_M12/1e-6:>10.3f} | {gds_M34/1e-6:>10.3f} | {gds_M56/1e-6:>10.3f} | {'µS':<10} |\")\n",
    "print(f\"| {'Vth':<13} | {Vth_M12/1e-3:>10.3f} | {Vth_M34/1e-3:>10.3f} | {Vth_M56/1e-3:>10.3f} | {'mV':<10} |\")\n",
    "print(f\"| {'VGS':<13} | {'-':>10} | {Vgs_M34/1e-3:>10.3f} | {Vgs_M56/1e-3:>10.3f} | {'mV':<10} |\")\n",
    "print(\"+\" + \"-\"*15 + \"+\" + \"-\"*12 + \"+\" + \"-\"*12 + \"+\" + \"-\"*12 + \"+\" + \"-\"*12 + \"+\")\n",
    "\n",
    "print(\"\\nCIRCUIT PARAMETERS\")\n",
    "print(\"+\" + \"-\"*15 + \"+\" + \"-\"*12 + \"+\" + \"-\"*12 + \"+\")\n",
    "print(f\"| {'Parameter':<13} | {'Value':<10} | {'Unit':<10} |\")\n",
    "print(\"+\" + \"-\"*15 + \"+\" + \"-\"*12 + \"+\" + \"-\"*12 + \"+\")\n",
    "print(f\"| {'A0_Mag':<13} | {A0_Mag:>10.3f} | {'V/V':<10} |\")\n",
    "print(f\"| {'A0_dB':<13} | {A0_dB:>10.3f} | {'dB':<10} |\")\n",
    "print(f\"| {'UGF':<13} | {UGF/1e6:>10.3f} | {'MHz':<10} |\")\n",
    "print(f\"| {'IDD':<13} | {Idd/1e-6:>10.3f} | {'µA':<10} |\")\n",
    "print(\"+\" + \"-\"*15 + \"+\" + \"-\"*12 + \"+\" + \"-\"*12 + \"+\")"
   ]
  }
 ],
 "metadata": {
  "kernelspec": {
   "display_name": ".venv (3.13.7)",
   "language": "python",
   "name": "python3"
  },
  "language_info": {
   "codemirror_mode": {
    "name": "ipython",
    "version": 3
   },
   "file_extension": ".py",
   "mimetype": "text/x-python",
   "name": "python",
   "nbconvert_exporter": "python",
   "pygments_lexer": "ipython3",
   "version": "3.13.7"
  }
 },
 "nbformat": 4,
 "nbformat_minor": 5
}
