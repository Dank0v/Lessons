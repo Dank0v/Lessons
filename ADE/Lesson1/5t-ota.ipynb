{
 "cells": [
  {
   "cell_type": "code",
   "execution_count": 9,
   "id": "25bf078b",
   "metadata": {},
   "outputs": [],
   "source": [
    "from pygmid import Lookup as lk\n",
    "import numpy as np\n",
    "\n",
    "nmos = lk('../../mat/xca011_nelvti.mat')\n",
    "pmos = lk('../../mat/xca011_pelvti.mat')"
   ]
  },
  {
   "cell_type": "code",
   "execution_count": 10,
   "id": "bd63a61f",
   "metadata": {},
   "outputs": [],
   "source": [
    "# Input Parameters\n",
    "Vdd = 1.5\n",
    "gbw = 50e6\n",
    "Cload = 1e-12\n",
    "gm_ID_M12 = 12\n",
    "gm_ID_M34 = 6\n",
    "L_M12 = 0.2\n",
    "L_M34 = 2"
   ]
  },
  {
   "cell_type": "code",
   "execution_count": 11,
   "id": "f3a47a29",
   "metadata": {},
   "outputs": [],
   "source": [
    "# Calculations\n",
    "Cself = 0\n",
    "for k in range(5):\n",
    "    gm_M12 = 2 * np.pi * (Cload + Cself) * gbw\n",
    "    ID_M12 = ID_M34 = gm_M12 / gm_ID_M12\n",
    "    gm_M34 = gm_ID_M34 * ID_M34\n",
    "\n",
    "    Vgs_M12 = nmos.lookupVGS(GM_ID=gm_ID_M12, VDS=Vdd/2, VSB=0, L=L_M12)\n",
    "    Vgs_M34 = pmos.lookupVGS(GM_ID=gm_ID_M34, VSB=0, L=L_M34)\n",
    "    Vgs_M34 = pmos.lookupVGS(GM_ID=gm_ID_M34, VDS=Vgs_M34, VSB=0, L=L_M34)\n",
    "\n",
    "    Cdd_M12 = gm_M12 / nmos.lookup('GM_CDD', GM_ID=gm_ID_M12, VDS=Vdd/2, VSB=0, L=L_M12)\n",
    "    Cdd_M34 = gm_M34 / pmos.lookup('GM_CDD', GM_ID=gm_ID_M34, VDS=Vgs_M34, VSB=0, L=L_M34)\n",
    "    Cself = Cdd_M12 + Cdd_M34\n",
    "\n",
    "JD_M12 = nmos.lookup('ID_W', GM_ID=gm_ID_M12, VDS=Vdd/2, VSB=0, L=L_M12)\n",
    "JD_M34 = pmos.lookup('ID_W', GM_ID=gm_ID_M34, VDS=Vgs_M34, VSB=0, L=L_M34)\n",
    "\n",
    "W_M12 = ID_M12 / JD_M12\n",
    "W_M34 = ID_M34 / JD_M34\n",
    "\n",
    "gds_M12 = gm_M12 / nmos.lookup('GM_GDS', GM_ID=gm_ID_M12, VDS=Vdd/2, VSB=0, L=L_M12)\n",
    "gds_M34 = gm_M34 / pmos.lookup('GM_GDS', GM_ID=gm_ID_M34, VDS=Vgs_M34, VSB=0, L=L_M34)\n",
    "\n",
    "Av = gm_M12 / (gds_M12 + gds_M34)\n",
    "Idd = 2 * ID_M12\n",
    "\n",
    "Vth_M12 = nmos.lookup('VT', VGS=Vgs_M12, VDS=Vdd/2, VSB=0, L=L_M12)\n",
    "Vth_M34 = pmos.lookup('VT', VGS=Vgs_M34, VDS=Vgs_M34, VSB=0, L=L_M34)\n",
    "\n",
    "Gbw = gm_M12 / (2 * np.pi * (Cload + Cself))"
   ]
  },
  {
   "cell_type": "code",
   "execution_count": 12,
   "id": "88b8618d",
   "metadata": {},
   "outputs": [
    {
     "name": "stdout",
     "output_type": "stream",
     "text": [
      "M1/2 PARAMETERS\n",
      "W    = 1.921 [um]\n",
      "L    = 0.200 [um]\n",
      "gm   = 319.401 [uS]\n",
      "ID   = 26.617 [uA]\n",
      "gds  = 14.712 [uS]\n",
      "Vth  = 498.962 [mV]\n",
      "VGS  = 573.768\n",
      "CDD  = 2.027 [fF]\n",
      "\n",
      "M3/4 PARAMETERS\n",
      "W    = 15.555 [um]\n",
      "L    = 2.000 [um]\n",
      "gm   = 159.700 [uS]\n",
      "ID   = 26.617 [uA]\n",
      "gds  = 3.403 [uS]\n",
      "Vth  = 296.770 [mV]\n",
      "VGS  = 580.698\n",
      "CDD  = 14.658 [fF]\n",
      "\n",
      "CIRCUIT PARAMETERS\n",
      "GBW  ~ 50.000 [MHz]\n",
      "Av   = 17.632 [V/V]\n",
      "IDD  = 53.233 [uA]\n"
     ]
    }
   ],
   "source": [
    "# Output\n",
    "print('M1/2 PARAMETERS')\n",
    "print(f'W    = {W_M12:1.3f} [um]')\n",
    "print(f'L    = {L_M12:1.3f} [um]')\n",
    "print(f'gm   = {gm_M12/1e-6:1.3f} [uS]')\n",
    "print(f'ID   = {ID_M12/1e-6:1.3f} [uA]')\n",
    "print(f'gds  = {gds_M12/1e-6:1.3f} [uS]')\n",
    "print(f'Vth  = {Vth_M12/1e-3:1.3f} [mV]')\n",
    "print(f'VGS  = {Vgs_M12/1e-3:1.3f}')\n",
    "print('\\nM3/4 PARAMETERS')\n",
    "print(f'W    = {W_M34:1.3f} [um]')\n",
    "print(f'L    = {L_M34:1.3f} [um]')\n",
    "print(f'gm   = {gm_M34/1e-6:1.3f} [uS]')\n",
    "print(f'ID   = {ID_M34/1e-6:1.3f} [uA]')\n",
    "print(f'gds  = {gds_M34/1e-6:1.3f} [uS]')\n",
    "print(f'Vth  = {Vth_M34/1e-3:1.3f} [mV]')\n",
    "print(f'VGS  = {Vgs_M34/1e-3:1.3f}')\n",
    "print('\\nCIRCUIT PARAMETERS')\n",
    "print(f'GBW  ~ {Gbw/1e6:1.3f} [MHz]')\n",
    "print(f'Av   = {Av:1.3f} [V/V]')\n",
    "print(f'IDD  = {Idd/1e-6:1.3f} [uA]')"
   ]
  }
 ],
 "metadata": {
  "kernelspec": {
   "display_name": ".venv (3.12.10)",
   "language": "python",
   "name": "python3"
  },
  "language_info": {
   "codemirror_mode": {
    "name": "ipython",
    "version": 3
   },
   "file_extension": ".py",
   "mimetype": "text/x-python",
   "name": "python",
   "nbconvert_exporter": "python",
   "pygments_lexer": "ipython3",
   "version": "3.12.10"
  }
 },
 "nbformat": 4,
 "nbformat_minor": 5
}
