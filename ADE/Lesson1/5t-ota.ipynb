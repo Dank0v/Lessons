{
 "cells": [
  {
   "cell_type": "code",
   "execution_count": 61,
   "id": "25bf078b",
   "metadata": {},
   "outputs": [],
   "source": [
    "from pygmid import Lookup as lk\n",
    "import numpy as np\n",
    "\n",
    "nmos = lk('../mat/nfet_01v8_lvt.mat')\n",
    "pmos = lk('../mat/pfet_01v8_lvt.mat')"
   ]
  },
  {
   "cell_type": "code",
   "execution_count": 62,
   "id": "bd63a61f",
   "metadata": {},
   "outputs": [],
   "source": [
    "# Input Parameters\n",
    "Vdd = 1.8\n",
    "gbw = 50e6\n",
    "Cload = 1e-12\n",
    "gm_ID_M1 = 15\n",
    "gm_ID_M2 = 10\n",
    "L_M1 = 0.2\n",
    "L_M2 = 1"
   ]
  },
  {
   "cell_type": "code",
   "execution_count": 63,
   "id": "f3a47a29",
   "metadata": {},
   "outputs": [],
   "source": [
    "# Calculations\n",
    "Cself = 0\n",
    "for k in range(1):\n",
    "    gm_M1 = 2 * np.pi * (Cload + Cself) * gbw\n",
    "    Ib = gm_M1 / gm_ID_M1\n",
    "    gm_M2 = gm_ID_M2 * Ib\n",
    "\n",
    "    Vgs_M1 = nmos.lookupVGS(GM_ID=gm_ID_M1, VDS=Vdd/2, VSB=0, L=L_M1)\n",
    "    Vgs_M2 = pmos.lookupVGS(GM_ID=gm_ID_M2, VSB=0, L=L_M2)\n",
    "    Vgs_M2 = pmos.lookupVGS(GM_ID=gm_ID_M2, VDS=Vgs_M2, VSB=0, L=L_M2)\n",
    "    \n",
    "    Vout = Vdd - Vgs_M2\n",
    "\n",
    "    Cdd_M1 = gm_M1 / nmos.lookup('GM_CDD', GM_ID=gm_ID_M1, VDS=Vout-0.2, VSB=0, L=L_M1)\n",
    "    Cdd_M2 = gm_M2 / pmos.lookup('GM_CDD', GM_ID=gm_ID_M2, VDS=Vgs_M2, VSB=0, L=L_M2)\n",
    "    Cself = Cdd_M1 + Cdd_M2\n",
    "\n",
    "JD_M1 = nmos.lookup('ID_W', GM_ID=gm_ID_M1, VDS=Vout-0.2, VSB=0, L=L_M1)\n",
    "JD_M2 = pmos.lookup('ID_W', GM_ID=gm_ID_M2, VDS=Vgs_M2, VSB=0, L=L_M2)\n",
    "\n",
    "W_M1 = Ib / JD_M1\n",
    "W_M2 = Ib / JD_M2\n",
    "\n",
    "gds_M1 = gm_M1 / nmos.lookup('GM_GDS', GM_ID=gm_ID_M1, VDS=Vout-0.2, VSB=0, L=L_M1)\n",
    "gds_M2 = gm_M2 / pmos.lookup('GM_GDS', GM_ID=gm_ID_M2, VDS=Vgs_M2, VSB=0, L=L_M2)\n",
    "\n",
    "Av = gm_M1 / (gds_M1 + gds_M2)\n",
    "IDD = 2 * Ib\n",
    "\n",
    "Vth_M1 = nmos.lookup('VT', VGS=Vgs_M1, VDS=Vout-0.2, VSB=0, L=L_M1)\n",
    "Vth_M2 = pmos.lookup('VT', VGS=Vgs_M2, VDS=Vgs_M2, VSB=0, L=L_M2)\n",
    "\n",
    "Gbw = gm_M1 / (2 * np.pi * (Cload + Cself))\n",
    "\n",
    "fp = Gbw / Av"
   ]
  },
  {
   "cell_type": "code",
   "execution_count": 64,
   "id": "88b8618d",
   "metadata": {},
   "outputs": [
    {
     "name": "stdout",
     "output_type": "stream",
     "text": [
      "M1 PARAMETERS\n",
      "W    = 2.144 [um]\n",
      "L    = 0.200 [um]\n",
      "gm   = 314.159 [uS]\n",
      "ID   = 20.944 [uA]\n",
      "gds  = 8.011 [uS]\n",
      "Vth  = 565.800 [mV]\n",
      "VGS  = 672.681\n",
      "CDD  = 1.333 [fF]\n",
      "\n",
      "M2 PARAMETERS\n",
      "W    = 28.226 [um]\n",
      "L    = 1.000 [um]\n",
      "gm   = 209.440 [uS]\n",
      "ID   = 20.944 [uA]\n",
      "gds  = 3.719 [uS]\n",
      "Vth  = 444.000 [mV]\n",
      "VGS  = 608.817\n",
      "CDD  = 12.998 [fF]\n",
      "\n",
      "CIRCUIT PARAMETERS\n",
      "GBW  = 49.294 [MHz]\n",
      "Av   = 26.782 [V/V]\n",
      "fp   = 1.841 [MHz]\n",
      "IDD  = 41.888 [uA]\n",
      "Vout = 1.191 [V]\n"
     ]
    }
   ],
   "source": [
    "# Output\n",
    "print('M1 PARAMETERS')\n",
    "print(f'W    = {W_M1:1.3f} [um]')\n",
    "print(f'L    = {L_M1:1.3f} [um]')\n",
    "print(f'gm   = {gm_M1/1e-6:1.3f} [uS]')\n",
    "print(f'ID   = {Ib/1e-6:1.3f} [uA]')\n",
    "print(f'gds  = {gds_M1/1e-6:1.3f} [uS]')\n",
    "print(f'Vth  = {Vth_M1/1e-3:1.3f} [mV]')\n",
    "print(f'VGS  = {Vgs_M1/1e-3:1.3f}')\n",
    "print(f'CDD  = {Cdd_M1/1e-15:1.3f} [fF]')\n",
    "print('\\nM2 PARAMETERS')\n",
    "print(f'W    = {W_M2:1.3f} [um]')\n",
    "print(f'L    = {L_M2:1.3f} [um]')\n",
    "print(f'gm   = {gm_M2/1e-6:1.3f} [uS]')\n",
    "print(f'ID   = {Ib/1e-6:1.3f} [uA]')\n",
    "print(f'gds  = {gds_M2/1e-6:1.3f} [uS]')\n",
    "print(f'Vth  = {Vth_M2/1e-3:1.3f} [mV]')\n",
    "print(f'VGS  = {Vgs_M2/1e-3:1.3f}')\n",
    "print(f'CDD  = {Cdd_M2/1e-15:1.3f} [fF]')\n",
    "print('\\nCIRCUIT PARAMETERS')\n",
    "print(f'GBW  = {Gbw/1e6:1.3f} [MHz]')\n",
    "print(f'Av   = {Av:1.3f} [V/V]')\n",
    "print(f'fp   = {fp/1e6:1.3f} [MHz]')\n",
    "print(f'IDD  = {IDD/1e-6:1.3f} [uA]')\n",
    "print(f'Vout = {Vout:1.3f} [V]')"
   ]
  }
 ],
 "metadata": {
  "kernelspec": {
   "display_name": ".venv (3.12.3)",
   "language": "python",
   "name": "python3"
  },
  "language_info": {
   "codemirror_mode": {
    "name": "ipython",
    "version": 3
   },
   "file_extension": ".py",
   "mimetype": "text/x-python",
   "name": "python",
   "nbconvert_exporter": "python",
   "pygments_lexer": "ipython3",
   "version": "3.12.3"
  }
 },
 "nbformat": 4,
 "nbformat_minor": 5
}
