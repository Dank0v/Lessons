{
 "cells": [
  {
   "cell_type": "markdown",
   "id": "def90f85",
   "metadata": {},
   "source": [
    "# Common Source Example"
   ]
  },
  {
   "cell_type": "markdown",
   "id": "aa4b4a48",
   "metadata": {},
   "source": [
    "## Python Setup"
   ]
  },
  {
   "cell_type": "code",
   "execution_count": 9,
   "id": "f7bd517f",
   "metadata": {},
   "outputs": [],
   "source": [
    "from pygmid import Lookup as lk\n",
    "import numpy as np\n",
    "\n",
    "nmos = lk('../mat/nfet_01v8_lvt.mat')"
   ]
  },
  {
   "cell_type": "markdown",
   "id": "bad56f20",
   "metadata": {},
   "source": [
    "## Input Parameters"
   ]
  },
  {
   "cell_type": "code",
   "execution_count": null,
   "id": "4422cacd",
   "metadata": {},
   "outputs": [],
   "source": [
    "# Circuit Parameters\n",
    "Vdd = 1.8\n",
    "ugf = 50e6\n",
    "Cload = 1e-12\n",
    "\n",
    "# Device Parameters\n",
    "## gm/ID\n",
    "gm_ID_M12 = 20\n",
    "\n",
    "## Length\n",
    "L_M12 = 0.5"
   ]
  },
  {
   "cell_type": "markdown",
   "id": "c5067c05",
   "metadata": {},
   "source": [
    "## Calculations"
   ]
  },
  {
   "cell_type": "code",
   "execution_count": null,
   "id": "2d565afe",
   "metadata": {},
   "outputs": [],
   "source": [
    "Cself = 0\n",
    "for k in range(10):\n",
    "    gm_M12 = 2 * np.pi * (Cload + Cself) * ugf\n",
    "\n",
    "    ID_M12 = gm_M12 / gm_ID_M12\n",
    "\n",
    "    Cdd_M12 = gm_M12 / nmos.lookup('GM_CDD', GM_ID=gm_ID_M12, VDS=Vdd/2, VSB=0, L=L_M12)\n",
    "    Cself = Cdd_M12\n",
    "\n",
    "Vgs_M12 = nmos.lookupVGS(GM_ID=gm_ID_M12, VDS=Vdd/2, VSB=0, L=L_M12)\n",
    "\n",
    "JD_M12 = nmos.lookup('ID_W', GM_ID=gm_ID_M12, VDS=Vdd/2, VSB=0, L=L_M12)\n",
    "\n",
    "W_M12 = ID_M12 / JD_M12\n",
    "\n",
    "av_M12 = nmos.lookup('GM_GDS', GM_ID=gm_ID_M12, VDS=Vdd/2, VSB=0, L=L_M12)\n",
    "\n",
    "gds_M12 = gm_M12 / av_M12\n",
    "\n",
    "Vth_M12 = nmos.lookup('VT', VGS=Vgs_M12, VDS=Vdd/2, VSB=0, L=L_M12)\n",
    "\n",
    "Res = Vdd/2 / ID_M12\n",
    "\n",
    "A0_Mag = gm_M12 / (gds_M12 + 1 / Res)\n",
    "A0_dB = 20 * np.log10(A0_Mag)\n",
    "\n",
    "Idd = ID_M12\n",
    "\n",
    "UGF = gm_M12 / (2 * np.pi * (Cload + Cself))"
   ]
  },
  {
   "cell_type": "code",
   "execution_count": null,
   "id": "f8048846",
   "metadata": {},
   "outputs": [
    {
     "name": "stdout",
     "output_type": "stream",
     "text": [
      "M1/2 PARAMETERS\n",
      "W      = 17.548 um\n",
      "L      = 0.500 um\n",
      "gm/ID  = 20.000 S/A\n",
      "JD     = 0.905 uA/um\n",
      "gm/gds = 89.233 V/V\n",
      "gm     = 317.660 uS\n",
      "ID     = 15.883 uA\n",
      "gds    = 3.560 uS\n",
      "Vth    = 517.800 mV\n",
      "\n",
      "CIRCUIT PARAMETERS\n",
      "R      = 56.664 kΩ\n",
      "Vbias  = 530.627 mV\n",
      "A0_Mag = 14.979 V/V\n",
      "A0_dB  = 23.509 dB\n",
      "UGF    ~ 50.000 MHz\n",
      "IDD    = 15.883 uA\n"
     ]
    }
   ],
   "source": [
    "# Output\n",
    "print('M1 PARAMETERS')\n",
    "print(f'W      = {W_M12:1.3f} um')\n",
    "print(f'L      = {L_M12:1.3f} um')\n",
    "print(f'gm/ID  = {gm_ID_M12:1.3f} S/A')\n",
    "print(f'JD     = {JD_M12/1e-6:1.3f} uA/um')\n",
    "print(f'gm/gds = {av_M12:1.3f} V/V')\n",
    "print(f'gm     = {gm_M12/1e-6:1.3f} uS')\n",
    "print(f'ID     = {ID_M12/1e-6:1.3f} uA')\n",
    "print(f'gds    = {gds_M12/1e-6:1.3f} uS')\n",
    "print(f'Vth    = {Vth_M12/1e-3:1.3f} mV')\n",
    "print('\\nCIRCUIT PARAMETERS')\n",
    "print(f'R      = {Res/1e3:1.3f} kΩ')\n",
    "print(f'Vbias  = {Vgs_M12/1e-3:1.3f} mV')\n",
    "print(f'A0_Mag = {A0_Mag:1.3f} V/V')\n",
    "print(f'A0_dB  = {A0_dB:1.3f} dB')\n",
    "print(f'UGF    ~ {UGF/1e6:1.3f} MHz')\n",
    "print(f'IDD    = {Idd/1e-6:1.3f} uA')"
   ]
  }
 ],
 "metadata": {
  "kernelspec": {
   "display_name": ".venv (3.13.7)",
   "language": "python",
   "name": "python3"
  },
  "language_info": {
   "codemirror_mode": {
    "name": "ipython",
    "version": 3
   },
   "file_extension": ".py",
   "mimetype": "text/x-python",
   "name": "python",
   "nbconvert_exporter": "python",
   "pygments_lexer": "ipython3",
   "version": "3.13.7"
  }
 },
 "nbformat": 4,
 "nbformat_minor": 5
}
